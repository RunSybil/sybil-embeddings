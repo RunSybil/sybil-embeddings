{
 "cells": [
  {
   "cell_type": "code",
   "execution_count": 1,
   "metadata": {},
   "outputs": [
    {
     "name": "stdout",
     "output_type": "stream",
     "text": [
      "[(3688, 'http://bountyrange.com:3000/api/Addresss/8', 'GET', None, 'eyJzdGF0dXMiOiJzdWNjZXNzIiwiZGF0YSI6eyJVc2VySWQiOjQzLCJpZCI6OCwiZnVsbE5hbWUiOiJKdXN0aW4gYWludCBSdXN0aW4iLCJtb2JpbGVOdW0iOjEyMzQ1Njc4OTAsInppcENvZGUiOiIxMjM0NSIsInN0cmVldEFkZHJlc3MiOiJKdXN0aW4gVG93biIsImNpdHkiOiJKdXN0b3BpYSIsInN0YXRlIjoiSnVzdCIsImNvdW50cnkiOiJKdXN0aW5Ub3duIiwiY3JlYXRlZEF0IjoiMjAyNC0wMi0yOFQxODozNDo0MS4yMzRaIiwidXBkYXRlZEF0IjoiMjAyNC0wMi0yOFQxODozNDo0MS4yMzRaIn19', '[{\"key\":\"host\",\"value\":\"bountyrange.com:3000\"},{\"key\":\"user-agent\",\"value\":\"Mozilla/5.0 (Macintosh; Intel Mac OS X 10.15; rv:123.0) Gecko/20100101 Firefox/123.0\"},{\"key\":\"accept\",\"value\":\"application/json, text/plain, */*\"},{\"key\":\"accept-language\",\"value\":\"en-US,en;q=0.5\"},{\"key\":\"accept-encoding\",\"value\":\"gzip, deflate, br\"},{\"key\":\"authorization\",\"value\":\"Bearer eyJ0eXAiOiJKV1QiLCJhbGciOiJSUzI1NiJ9.eyJzdGF0dXMiOiJzdWNjZXNzIiwiZGF0YSI6eyJpZCI6NDMsInVzZXJuYW1lIjoiIiwiZW1haWwiOiJqdXN0aW50ZXN0QHN5YmlsLmNvbSIsInBhc3N3b3JkIjoiNjMzZTc0ZjMyNDczZDA4MTQyZjljMGJiODJjMzVlZDciLCJyb2xlIjoiY3VzdG9tZXIiLCJkZWx1eGVUb2tlbiI6IiIsImxhc3RMb2dpbklwIjoiMC4wLjAuMCIsInByb2ZpbGVJbWFnZSI6Ii9hc3NldHMvcHVibGljL2ltYWdlcy91cGxvYWRzL2RlZmF1bHQuc3ZnIiwidG90cFNlY3JldCI6IiIsImlzQWN0aXZlIjp0cnVlLCJjcmVhdGVkQXQiOiIyMDI0LTAyLTI4IDE4OjMzOjAxLjgyMiArMDA6MDAiLCJ1cGRhdGVkQXQiOiIyMDI0LTAyLTI4IDE4OjMzOjAxLjgyMiArMDA6MDAiLCJkZWxldGVkQXQiOm51bGx9LCJpYXQiOjE3MDkxNDUxOTd9.fOEWhi_81Ugw0QUS8IxVuBWzjwFn2Sa7VnCgBzjZ4F8jNZm7fMGW6QOjypChb5yYTNCNLkFb9Jome796R9Z2zPWgoA4rBZfAZiHqI3m4XCzJfjbIEHTiAnoN72n2AS-3wwzP1gSpS8CY7j7wdos6NsqMJ4WVyMq_-uZ6hbBQSWE\"},{\"key\":\"connection\",\"value\":\"close\"},{\"key\":\"referer\",\"value\":\"http://bountyrange.com:3000/\"},{\"key\":\"cookie\",\"value\":\"language=en; welcomebanner_status=dismiss; cookieconsent_status=dismiss; token=eyJ0eXAiOiJKV1QiLCJhbGciOiJSUzI1NiJ9.eyJzdGF0dXMiOiJzdWNjZXNzIiwiZGF0YSI6eyJpZCI6NDMsInVzZXJuYW1lIjoidHVyYm9qdXN0aW4iLCJlbWFpbCI6Imp1c3RpbnRlc3RAc3liaWwuY29tIiwicGFzc3dvcmQiOiI2MzNlNzRmMzI0NzNkMDgxNDJmOWMwYmI4MmMzNWVkNyIsInJvbGUiOiJjdXN0b21lciIsImRlbHV4ZVRva2VuIjoiIiwibGFzdExvZ2luSXAiOiIwLjAuMC4wIiwicHJvZmlsZUltYWdlIjoiL2Fzc2V0cy9wdWJsaWMvaW1hZ2VzL3VwbG9hZHMvZGVmYXVsdC5zdmciLCJ0b3RwU2VjcmV0IjoiIiwiaXNBY3RpdmUiOnRydWUsImNyZWF0ZWRBdCI6IjIwMjQtMDItMjhUMTg6MzM6MDEuODIyWiIsInVwZGF0ZWRBdCI6IjIwMjQtMDItMjhUMTg6MzM6MzguMTUyWiIsImRlbGV0ZWRBdCI6bnVsbH0sImlhdCI6MTcwOTE0NTIxOH0.LYHXqKo3HHUQlz7RWdga8_GSSSZASoXqdOCvjM_kOnHP9aIUOK3jOcDNXpk6w3uZVBqPcUuz4C9635fWfFXPVzRJawuQN3fo1fm7_yKH53ZPw8gUCr5E23Gk59M6-Q_blgLQLUG8den7DGd4HZQrAxb6jMM1eP7QYjfkeF-fxu8\"}]', '[{\"key\":\"access-control-allow-origin\",\"value\":\"*\"},{\"key\":\"x-content-type-options\",\"value\":\"nosniff\"},{\"key\":\"x-frame-options\",\"value\":\"SAMEORIGIN\"},{\"key\":\"feature-policy\",\"value\":\"payment \\'self\\'\"},{\"key\":\"x-recruiting\",\"value\":\"/#/jobs\"},{\"key\":\"content-type\",\"value\":\"application/json; charset=utf-8\"},{\"key\":\"content-length\",\"value\":\"285\"},{\"key\":\"etag\",\"value\":\"W/\\\\\"11d-WrrxC6habDxGQjF7uh1Nq0lQOWY\\\\\"\"},{\"key\":\"vary\",\"value\":\"Accept-Encoding\"},{\"key\":\"date\",\"value\":\"Wed, 28 Feb 2024 18:34:48 GMT\"},{\"key\":\"connection\",\"value\":\"close\"},{\"key\":\"x-sybil-pair-id\",\"value\":\"018df0ff-6da8-79ee-9df4-570d2a2124df\"}]')]\n"
     ]
    }
   ],
   "source": [
    "from sybil_embeddings import EmbeddingSearch\n",
    "import sqlite3\n",
    "# You should consider dropping requests/responses that are not in scope (such as mozilla traffic or other irrelevant stuff)\n",
    "QUERY =  \"\"\"\n",
    "SELECT \n",
    "    a.id as request_id,\n",
    "    a.request_target as request_target,\n",
    "    json_extract(a.data, \"$.http_request.http_method\") as request_method,\n",
    "    json_extract(b.data, '$.http_request.base64_body') as request_body,\n",
    "    json_extract(b.data, '$.http_response.base64_body') as response_body,\n",
    "    json_extract(a.data, '$.http_request.headers') as request_headers,\n",
    "    json_extract(b.data, '$.http_response.headers') as response_headers\n",
    " FROM (\n",
    "    SELECT e.*, \n",
    "        json_extract(e.data, '$.http_request.request_target') as request_target \n",
    "    from events as e \n",
    "    where event_type == 'HttpProxyRequest'\n",
    "    ) as a\n",
    " JOIN (\n",
    "    SELECT * from events where event_type == 'HttpProxyResponse'\n",
    "    ) as b \n",
    " ON json_extract(a.data, '$.pair_id') == json_extract(b.data, '$.pair_id') \n",
    "where (\n",
    "        (response_body != \"\" and response_body is not null) \n",
    "        or \n",
    "        (request_body != \"\" and request_body is not null)\n",
    "    )\n",
    ";\n",
    "\"\"\"\n",
    "example_database = 'test.sqlite'\n",
    "results = sqlite3.connect(example_database).execute(QUERY).fetchall()\n",
    "read_of_interest = [r for r in results if r[0] == 3688]\n",
    "print(read_of_interest)"
   ]
  },
  {
   "cell_type": "code",
   "execution_count": 2,
   "metadata": {},
   "outputs": [
    {
     "name": "stderr",
     "output_type": "stream",
     "text": [
      "Token indices sequence length is longer than the specified maximum sequence length for this model (669 > 512). Running this sequence through the model will result in indexing errors\n",
      "/Users/justintienken-harder/.pyenv/versions/3.11.5/lib/python3.11/html/parser.py:170: XMLParsedAsHTMLWarning: It looks like you're parsing an XML document using an HTML parser. If this really is an HTML document (maybe it's XHTML?), you can ignore or filter this warning. If it's XML, you should know that using an XML parser will be more reliable. To parse this document as XML, make sure you have the lxml package installed, and pass the keyword argument `features=\"xml\"` into the BeautifulSoup constructor.\n",
      "  k = self.parse_starttag(i)\n",
      "/Users/justintienken-harder/sybil-embeddings/src/sybil_embeddings/preprocessing/chunking.py:21: MarkupResemblesLocatorWarning: The input looks more like a URL than markup. You may want to use an HTTP client like requests to get the document behind the URL, and feed that document to Beautiful Soup.\n",
      "  soup = BeautifulSoup(s, 'html.parser')\n"
     ]
    }
   ],
   "source": [
    "Searcher = EmbeddingSearch()\n",
    "Searcher.embed_query_results(results, prefix = \"your embedding prefix here\",  drop_ids=[3674])"
   ]
  },
  {
   "cell_type": "code",
   "execution_count": 3,
   "metadata": {},
   "outputs": [
    {
     "data": {
      "text/plain": [
       "(4403, 768)"
      ]
     },
     "execution_count": 3,
     "metadata": {},
     "output_type": "execute_result"
    }
   ],
   "source": [
    "Searcher.embeddings.shape"
   ]
  },
  {
   "cell_type": "code",
   "execution_count": 5,
   "metadata": {},
   "outputs": [
    {
     "name": "stdout",
     "output_type": "stream",
     "text": [
      "I DON'T KNOW WHAT TO DO, QUERY IS TOO LONG. I'M JUST GOING TO USE THE FIRST CHUNK.\n"
     ]
    },
    {
     "data": {
      "text/plain": [
       "[3787, 3676, 3786, 3784, 3688, 2421, 126, 2390, 2389, 2478]"
      ]
     },
     "execution_count": 5,
     "metadata": {},
     "output_type": "execute_result"
    },
    {
     "ename": "",
     "evalue": "",
     "output_type": "error",
     "traceback": [
      "\u001b[1;31mThe Kernel crashed while executing code in the current cell or a previous cell. \n",
      "\u001b[1;31mPlease review the code in the cell(s) to identify a possible cause of the failure. \n",
      "\u001b[1;31mClick <a href='https://aka.ms/vscodeJupyterKernelCrash'>here</a> for more info. \n",
      "\u001b[1;31mView Jupyter <a href='command:jupyter.viewOutput'>log</a> for further details."
     ]
    }
   ],
   "source": [
    "\n",
    "Searcher.search( \"\"\"{\"status\":\"success\",\"data\":{\"UserId\":43,\"id\":8,\"fullName\":\"Justin aint Rustin\",\"mobileNum\":1234567890,\"zipCode\":\"12345\",\"streetAddress\":\"Justin Town\",\"city\":\"Justopia\",\"state\":\"Just\",\"country\":\"JustinTown\",\"createdAt\":\"2024-02-28T18:34:41.234Z\",\"updatedAt\":\"2024-02-28T18:34:41.234Z\"}}\"\"\"*30, prefix = \"your search prefix here\")"
   ]
  }
 ],
 "metadata": {
  "kernelspec": {
   "display_name": ".venv",
   "language": "python",
   "name": "python3"
  },
  "language_info": {
   "codemirror_mode": {
    "name": "ipython",
    "version": 3
   },
   "file_extension": ".py",
   "mimetype": "text/x-python",
   "name": "python",
   "nbconvert_exporter": "python",
   "pygments_lexer": "ipython3",
   "version": "3.11.5"
  }
 },
 "nbformat": 4,
 "nbformat_minor": 2
}
